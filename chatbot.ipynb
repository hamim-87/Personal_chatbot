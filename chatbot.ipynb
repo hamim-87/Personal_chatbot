{
 "cells": [
  {
   "cell_type": "code",
   "execution_count": 8,
   "id": "82107654-ec7a-4393-8b0e-5115306f0c08",
   "metadata": {},
   "outputs": [],
   "source": [
    "import ollama\n",
    "import gradio as gr\n",
    "import re"
   ]
  },
  {
   "cell_type": "code",
   "execution_count": 2,
   "id": "b008c4b5-ceb6-417d-91c1-e54bc8f7a3e0",
   "metadata": {},
   "outputs": [],
   "source": [
    "model = 'deepseek-r1'"
   ]
  },
  {
   "cell_type": "code",
   "execution_count": 3,
   "id": "926e93c9-2d98-412e-b2c1-7f45e4b426da",
   "metadata": {},
   "outputs": [],
   "source": [
    "system_message = \" You are a good assitance.\"\n"
   ]
  },
  {
   "cell_type": "code",
   "execution_count": 4,
   "id": "e21d2d03-0f80-4b11-bb07-f94db68472b3",
   "metadata": {},
   "outputs": [],
   "source": [
    "# def chat(message,history):\n",
    "#     messages = [{'role':'system', 'content':system_message}] + history + [{'role':'user','content': message}]\n",
    "#     steam = ollama.chat(model=model, messages=messages, stream=True)\n",
    "\n",
    "#     print( messages)\n",
    "#     response = \"\"\n",
    "#     for chunk in streams:\n",
    "#         res = chunk['message'].content\n",
    "#         response+=res\n",
    "#         print(res,end=\"\")\n",
    "#         yield response\n",
    "    \n",
    "    "
   ]
  },
  {
   "cell_type": "code",
   "execution_count": 9,
   "id": "d4d8fe8e-fa8f-4885-bab3-2ece30bd444a",
   "metadata": {},
   "outputs": [],
   "source": [
    "def chat(message, history):\n",
    "    messages = [{'role': 'system', 'content': system_message}] + history + [{'role': 'user', 'content': message}]\n",
    "    stream = ollama.chat(model=model, messages=messages, stream=True)\n",
    "\n",
    "    print(messages)  \n",
    "\n",
    "    response = \"\"\n",
    "    capturing = False  \n",
    "    \n",
    "    for chunk in stream:\n",
    "        res = chunk['message']['content']\n",
    "        response += res\n",
    "\n",
    "        \n",
    "        if not capturing:\n",
    "            match = re.search(r\"</think>\\s*(.*)\", response, re.DOTALL)\n",
    "            if match:\n",
    "                response = match.group(1)  \n",
    "                capturing = True  \n",
    "            else:\n",
    "                continue \n",
    "\n",
    "        print(res, end=\"\", flush=True)\n",
    "        yield response  # Yield chunk-by-chunk after </think>"
   ]
  },
  {
   "cell_type": "code",
   "execution_count": null,
   "id": "3b4b111e-0428-4b3f-a0ec-4dbc095694a1",
   "metadata": {},
   "outputs": [],
   "source": []
  },
  {
   "cell_type": "code",
   "execution_count": 5,
   "id": "26c96d7a-8ba2-48bf-a9f6-75fc99f5d0f1",
   "metadata": {},
   "outputs": [],
   "source": [
    "def echo(msg,history):\n",
    "    return msg"
   ]
  },
  {
   "cell_type": "code",
   "execution_count": 10,
   "id": "1b0d1043-9fc0-45c3-89e3-a2b0ddca7e93",
   "metadata": {},
   "outputs": [
    {
     "name": "stdout",
     "output_type": "stream",
     "text": [
      "* Running on local URL:  http://127.0.0.1:7861\n",
      "\n",
      "To create a public link, set `share=True` in `launch()`.\n"
     ]
    },
    {
     "data": {
      "text/html": [
       "<div><iframe src=\"http://127.0.0.1:7861/\" width=\"100%\" height=\"500\" allow=\"autoplay; camera; microphone; clipboard-read; clipboard-write;\" frameborder=\"0\" allowfullscreen></iframe></div>"
      ],
      "text/plain": [
       "<IPython.core.display.HTML object>"
      ]
     },
     "metadata": {},
     "output_type": "display_data"
    },
    {
     "data": {
      "text/plain": []
     },
     "execution_count": 10,
     "metadata": {},
     "output_type": "execute_result"
    },
    {
     "name": "stdout",
     "output_type": "stream",
     "text": [
      "[{'role': 'system', 'content': ' You are a good assitance.'}, {'role': 'user', 'content': 'hi'}]\n",
      "</think>\n",
      "\n",
      "Hi! How can I assist you today? 😊[{'role': 'system', 'content': ' You are a good assitance.'}, {'role': 'user', 'metadata': None, 'content': 'hi', 'options': None}, {'role': 'assistant', 'metadata': None, 'content': 'Hi! How can I assist you today? 😊', 'options': None}, {'role': 'user', 'content': 'what is 2+2 ?'}]\n",
      "</think>\n",
      "\n",
      "The sum of 2 + 2 is **4**. 😊[{'role': 'system', 'content': ' You are a good assitance.'}, {'role': 'user', 'metadata': None, 'content': 'hi', 'options': None}, {'role': 'assistant', 'metadata': None, 'content': 'Hi! How can I assist you today? 😊', 'options': None}, {'role': 'user', 'metadata': None, 'content': 'what is 2+2 ?', 'options': None}, {'role': 'assistant', 'metadata': None, 'content': 'The sum of 2 + 2 is **4**. 😊', 'options': None}, {'role': 'user', 'content': 'give me a python code of a example of array'}]\n",
      "</think>\n",
      "\n",
      "Sure! Here's an example of a Python code that demonstrates working with arrays (lists):\n",
      "\n",
      "```python\n",
      "# Create an array (list) of integers\n",
      "my_array = [1, 2, 3, 4, 5]\n",
      "\n",
      "# Add another element to the array\n",
      "my_array.append(6)\n",
      "\n",
      "# Print the array\n",
      "print(\"The array is:\", my_array)\n",
      "\n",
      "# Check if it's an instance of list (array in Python)\n",
      "print(isinstance(my_array, list))\n",
      "\n",
      "# Another example: extending the array\n",
      "my_array.extend([7, 8])\n",
      "\n",
      "# Print again\n",
      "print(\"After extending, the array is:\", my_array)\n",
      "```\n",
      "\n",
      "### Explanation:\n",
      "- **`my_array = [1, 2, 3, 4, 5]`**: Creates a list (array) containing integers 1 to 5.\n",
      "- **`append(6)`**: Adds the integer 6 to the end of the array.\n",
      "- **`print(\"The array is:\", my_array)`**: Outputs the current state of the array.\n",
      "- **`isinstance(my_array, list)`**: Checks and prints whether `my_array` is a Python list (array).\n",
      "- **`extend([7, 8])`**: Adds both integers 7 and 8 to the end of the array.\n",
      "- **`print(\"After extending, the array is:\", my_array)`**: Outputs the updated state of the array.\n",
      "\n",
      "This example demonstrates basic operations with arrays in Python. Let me know if you'd like further clarification! 😊[{'role': 'system', 'content': ' You are a good assitance.'}, {'role': 'user', 'content': 'what are you doing?'}]\n",
      "</think>\n",
      "\n",
      "I’m here to assist you! Whether you need help with a question, require information, or want advice on something, I’m here to provide support. I specialize in offering knowledge-based answers and technical assistance where applicable. Please feel free to ask me anything, and don’t hesitate to reach out if you have any specific needs. 😊"
     ]
    },
    {
     "name": "stderr",
     "output_type": "stream",
     "text": [
      "B:\\AI\\Learn\\udemy llm\\llm_engineering\\venv\\Lib\\site-packages\\gradio\\components\\chatbot.py:282: UserWarning: You have not specified a value for the `type` parameter. Defaulting to the 'tuples' format for chatbot messages, but this is deprecated and will be removed in a future version of Gradio. Please set type='messages' instead, which uses openai-style dictionaries with 'role' and 'content' keys.\n",
      "  warnings.warn(\n"
     ]
    }
   ],
   "source": [
    "gr.ChatInterface(\n",
    "    fn=chat,\n",
    "    type=\"messages\",\n",
    "    flagging_mode=\"manual\",\n",
    "    flagging_options=[\"Like\", \"Spam\", \"Inappropriate\", \"Other\"],\n",
    "    save_history=True,\n",
    ").launch()"
   ]
  },
  {
   "cell_type": "code",
   "execution_count": 7,
   "id": "dd2e9fa8-c21a-4b29-98bb-3d39757dd91a",
   "metadata": {},
   "outputs": [],
   "source": [
    "\n"
   ]
  },
  {
   "cell_type": "code",
   "execution_count": null,
   "id": "e9b7a9b1-b5bb-4da0-a456-5664ac58bc45",
   "metadata": {},
   "outputs": [],
   "source": []
  },
  {
   "cell_type": "code",
   "execution_count": null,
   "id": "7a9ec42c-8879-419b-b19d-7c355f86a86f",
   "metadata": {},
   "outputs": [],
   "source": []
  }
 ],
 "metadata": {
  "kernelspec": {
   "display_name": "Python 3 (ipykernel)",
   "language": "python",
   "name": "python3"
  },
  "language_info": {
   "codemirror_mode": {
    "name": "ipython",
    "version": 3
   },
   "file_extension": ".py",
   "mimetype": "text/x-python",
   "name": "python",
   "nbconvert_exporter": "python",
   "pygments_lexer": "ipython3",
   "version": "3.11.3"
  }
 },
 "nbformat": 4,
 "nbformat_minor": 5
}
